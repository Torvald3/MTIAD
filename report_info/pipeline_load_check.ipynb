{
 "cells": [
  {
   "metadata": {},
   "cell_type": "markdown",
   "source": "# Pipeline load check",
   "id": "e46cc2b93492bb0c"
  },
  {
   "cell_type": "code",
   "id": "initial_id",
   "metadata": {
    "collapsed": true,
    "ExecuteTime": {
     "end_time": "2025-09-25T20:40:37.935441Z",
     "start_time": "2025-09-25T20:40:36.332846Z"
    }
   },
   "source": [
    "import pandas as pd\n",
    "import numpy as np\n",
    "import matplotlib.pyplot as plt\n",
    "import seaborn as sns\n",
    "\n",
    "from sklearn.model_selection import train_test_split, GridSearchCV  # [tuning]\n",
    "\n",
    "from sklearn.pipeline import Pipeline\n",
    "from sklearn.compose import ColumnTransformer\n",
    "from sklearn.preprocessing import StandardScaler, OneHotEncoder\n",
    "from sklearn.impute import SimpleImputer\n",
    "from sklearn.ensemble import RandomForestRegressor\n",
    "from sklearn.metrics import mean_squared_error, r2_score, mean_absolute_error\n",
    "\n",
    "import joblib\n",
    "\n",
    "loaded_pipeline = joblib.load('vehicle_emissions_pipeline.joblib')"
   ],
   "outputs": [],
   "execution_count": 2
  },
  {
   "metadata": {
    "ExecuteTime": {
     "end_time": "2025-09-25T20:40:37.945958Z",
     "start_time": "2025-09-25T20:40:37.940027Z"
    }
   },
   "cell_type": "code",
   "source": [
    "sample = pd.DataFrame([{\n",
    "    'Engine_Size': 2.4,\n",
    "    'Cylinders': 4,\n",
    "    'Fuel_Consumption_in_City(L/100 km)': 9.9,\n",
    "    'Fuel_Consumption_in_City_Hwy(L/100 km)': 7,\n",
    "    'Fuel_Consumption_comb(L/100km)': 8.6,\n",
    "    'Make': 'Acura',\n",
    "    'Model': 'ILX',\n",
    "    'Vehicle_Class': 'Compact',\n",
    "    'Transmission': 'AM8',\n",
    "    'Smog_Level': 3\n",
    "}])\n",
    "# Make,Model,Vehicle_Class,Engine_Size,Cylinders,Transmission,Fuel_Consumption_in_City(L/100 km),Fuel_Consumption_in_City_Hwy(L/100 km),Fuel_Consumption_comb(L/100km),CO2_Emissions,Smog_Level\n",
    "#\n",
    "# Acura,ILX,Compact,2.4,4,AM8,9.9,7,8.6,199,3\n"
   ],
   "id": "cd06d7c5c5af6e1",
   "outputs": [],
   "execution_count": 3
  },
  {
   "metadata": {
    "ExecuteTime": {
     "end_time": "2025-09-25T20:40:38.053170Z",
     "start_time": "2025-09-25T20:40:38.029405Z"
    }
   },
   "cell_type": "code",
   "source": [
    "pred = loaded_pipeline.predict(sample)\n",
    "print(\"Predicted CO₂ for sample:\", float(pred[0]))"
   ],
   "id": "fc1422b280f546da",
   "outputs": [
    {
     "name": "stdout",
     "output_type": "stream",
     "text": [
      "Predicted CO₂ for sample: 199.695\n"
     ]
    }
   ],
   "execution_count": 4
  }
 ],
 "metadata": {
  "kernelspec": {
   "display_name": "Python 3",
   "language": "python",
   "name": "python3"
  },
  "language_info": {
   "codemirror_mode": {
    "name": "ipython",
    "version": 2
   },
   "file_extension": ".py",
   "mimetype": "text/x-python",
   "name": "python",
   "nbconvert_exporter": "python",
   "pygments_lexer": "ipython2",
   "version": "2.7.6"
  }
 },
 "nbformat": 4,
 "nbformat_minor": 5
}
