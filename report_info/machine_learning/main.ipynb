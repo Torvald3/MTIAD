{
 "cells": [
  {
   "metadata": {
    "ExecuteTime": {
     "end_time": "2025-09-24T23:04:24.806651Z",
     "start_time": "2025-09-24T23:04:24.802999Z"
    }
   },
   "cell_type": "code",
   "source": [
    "# Imports\n",
    "import pandas as pd\n",
    "import numpy as np\n",
    "\n",
    "from sklearn.model_selection import train_test_split, GridSearchCV\n",
    "from sklearn.preprocessing import MinMaxScaler\n",
    "from sklearn.neighbors import KNeighborsClassifier\n",
    "from sklearn.metrics import accuracy_score, confusion_matrix\n",
    "\n",
    "import matplotlib.pyplot as plt\n",
    "import seaborn as sns"
   ],
   "id": "2a882a5c56d06b60",
   "outputs": [],
   "execution_count": 185
  },
  {
   "metadata": {
    "ExecuteTime": {
     "end_time": "2025-09-24T23:04:24.881393Z",
     "start_time": "2025-09-24T23:04:24.871263Z"
    }
   },
   "cell_type": "code",
   "source": [
    "data = pd.read_csv(\"titanic.csv\")\n",
    "data.info()"
   ],
   "id": "81d5315f1f48839a",
   "outputs": [
    {
     "name": "stdout",
     "output_type": "stream",
     "text": [
      "<class 'pandas.core.frame.DataFrame'>\n",
      "RangeIndex: 891 entries, 0 to 890\n",
      "Data columns (total 12 columns):\n",
      " #   Column       Non-Null Count  Dtype  \n",
      "---  ------       --------------  -----  \n",
      " 0   PassengerId  891 non-null    int64  \n",
      " 1   Survived     891 non-null    int64  \n",
      " 2   Pclass       891 non-null    int64  \n",
      " 3   Name         891 non-null    object \n",
      " 4   Sex          891 non-null    object \n",
      " 5   Age          714 non-null    float64\n",
      " 6   SibSp        891 non-null    int64  \n",
      " 7   Parch        891 non-null    int64  \n",
      " 8   Ticket       891 non-null    object \n",
      " 9   Fare         891 non-null    float64\n",
      " 10  Cabin        204 non-null    object \n",
      " 11  Embarked     889 non-null    object \n",
      "dtypes: float64(2), int64(5), object(5)\n",
      "memory usage: 83.7+ KB\n"
     ]
    }
   ],
   "execution_count": 186
  },
  {
   "metadata": {
    "ExecuteTime": {
     "end_time": "2025-09-24T23:04:24.921859Z",
     "start_time": "2025-09-24T23:04:24.917350Z"
    }
   },
   "cell_type": "code",
   "source": "print(data.isnull().sum())",
   "id": "cfe6901ec92b9a33",
   "outputs": [
    {
     "name": "stdout",
     "output_type": "stream",
     "text": [
      "PassengerId      0\n",
      "Survived         0\n",
      "Pclass           0\n",
      "Name             0\n",
      "Sex              0\n",
      "Age            177\n",
      "SibSp            0\n",
      "Parch            0\n",
      "Ticket           0\n",
      "Fare             0\n",
      "Cabin          687\n",
      "Embarked         2\n",
      "dtype: int64\n"
     ]
    }
   ],
   "execution_count": 187
  },
  {
   "metadata": {
    "ExecuteTime": {
     "end_time": "2025-09-24T23:04:24.940264Z",
     "start_time": "2025-09-24T23:04:24.936525Z"
    }
   },
   "cell_type": "code",
   "source": [
    "# Fill in missing ages\n",
    "def fill_missing_ages(df):\n",
    "    age_fill_map = {}\n",
    "    for pclass in df[\"Pclass\"].unique():\n",
    "        if pclass not in age_fill_map:\n",
    "            age_fill_map[pclass] = df[df[\"Pclass\"] == pclass][\"Age\"].median()\n",
    "\n",
    "    df[\"Age\"] = df.apply(lambda row: age_fill_map[row[\"Pclass\"]] if pd.isnull(row[\"Age\"]) else row[\"Age\"], axis=1)"
   ],
   "id": "664bec36cfb9d3e4",
   "outputs": [],
   "execution_count": 188
  },
  {
   "metadata": {
    "ExecuteTime": {
     "end_time": "2025-09-24T23:04:24.972180Z",
     "start_time": "2025-09-24T23:04:24.967367Z"
    }
   },
   "cell_type": "code",
   "source": [
    "# Data Cleaning and Feature Engineering\n",
    "def preprocess_data(df):\n",
    "    df.drop(columns=[\"PassengerId\", \"Name\", \"Ticket\",\"Cabin\"], inplace=True)\n",
    "\n",
    "    df[\"Embarked\"].fillna(\"S\", inplace=True)\n",
    "    df.drop(columns=[\"Embarked\"], inplace=True)\n",
    "\n",
    "    fill_missing_ages(df)\n",
    "\n",
    "    # Convert Gender\n",
    "    df[\"Sex\"] = df[\"Sex\"].map({'male':1,\"female\":0})\n",
    "\n",
    "    # Feature Enginnering\n",
    "    df[\"FamilySize\"] = df[\"SibSp\"] + df[\"Parch\"]\n",
    "    df[\"IsAlone\"] = np.where(df[\"FamilySize\"] == 0, 1, 0)\n",
    "    df[\"FareBin\"] = pd.qcut(df[\"Fare\"], 4, labels=False)\n",
    "    df[\"AgeBin\"] = pd.cut(df[\"Age\"], bins=[0,12,20,40,60, np.inf],labels=False)\n",
    "\n",
    "    return df"
   ],
   "id": "4cb96cdc9d78e456",
   "outputs": [],
   "execution_count": 189
  },
  {
   "metadata": {
    "ExecuteTime": {
     "end_time": "2025-09-24T23:04:25.010997Z",
     "start_time": "2025-09-24T23:04:24.993302Z"
    }
   },
   "cell_type": "code",
   "source": "data = preprocess_data(data)",
   "id": "ac99ec3f4a381155",
   "outputs": [
    {
     "name": "stderr",
     "output_type": "stream",
     "text": [
      "C:\\Users\\PC\\AppData\\Local\\Temp\\ipykernel_23168\\2189919927.py:5: FutureWarning: A value is trying to be set on a copy of a DataFrame or Series through chained assignment using an inplace method.\n",
      "The behavior will change in pandas 3.0. This inplace method will never work because the intermediate object on which we are setting values always behaves as a copy.\n",
      "\n",
      "For example, when doing 'df[col].method(value, inplace=True)', try using 'df.method({col: value}, inplace=True)' or df[col] = df[col].method(value) instead, to perform the operation inplace on the original object.\n",
      "\n",
      "\n",
      "  df[\"Embarked\"].fillna(\"S\", inplace=True)\n"
     ]
    }
   ],
   "execution_count": 190
  },
  {
   "metadata": {
    "ExecuteTime": {
     "end_time": "2025-09-24T23:04:25.020585Z",
     "start_time": "2025-09-24T23:04:25.015402Z"
    }
   },
   "cell_type": "code",
   "source": [
    "# Create Features / Target Variables (Make Flashcards)\n",
    "X = data.drop(columns=[\"Survived\"])\n",
    "y = data[\"Survived\"]\n",
    "\n",
    "X_train, X_test, y_train, y_test = train_test_split(X, y, test_size=0.25, random_state=42)"
   ],
   "id": "bf8c875dd1940bef",
   "outputs": [],
   "execution_count": 191
  },
  {
   "metadata": {
    "ExecuteTime": {
     "end_time": "2025-09-24T23:04:25.070190Z",
     "start_time": "2025-09-24T23:04:25.061162Z"
    }
   },
   "cell_type": "code",
   "source": [
    "# ML Preprocessing\n",
    "scaler = MinMaxScaler()\n",
    "X_train = scaler.fit_transform(X_train)\n",
    "X_test = scaler.transform(X_test)\n"
   ],
   "id": "9fd060f39edf69f",
   "outputs": [],
   "execution_count": 192
  },
  {
   "metadata": {
    "ExecuteTime": {
     "end_time": "2025-09-24T23:04:25.078364Z",
     "start_time": "2025-09-24T23:04:25.074853Z"
    }
   },
   "cell_type": "code",
   "source": [
    "# Hyperparemeter Tuning - KNN\n",
    "\n",
    "def tune_model(X_train, y_train):\n",
    "    param_grid = {\n",
    "        \"n_neighbors\":range(1,21),\n",
    "        \"metric\" : [\"euclidean\", \"manhattan\", \"minkowski\"],\n",
    "        \"weights\" : [\"uniform\",\"distance\"]\n",
    "    }\n",
    "\n",
    "    model = KNeighborsClassifier()\n",
    "    grid_search = GridSearchCV(model, param_grid, cv=5, n_jobs=1)\n",
    "    grid_search.fit(X_train, y_train)\n",
    "\n",
    "    return grid_search.best_estimator_\n",
    "# pip install -U scikit-learn joblib ------ if error occurs\n"
   ],
   "id": "600b2ebbe13b203d",
   "outputs": [],
   "execution_count": 193
  },
  {
   "metadata": {
    "ExecuteTime": {
     "end_time": "2025-09-24T23:04:28.828296Z",
     "start_time": "2025-09-24T23:04:25.093411Z"
    }
   },
   "cell_type": "code",
   "source": [
    "\n",
    "best_model = tune_model(X_train, y_train)"
   ],
   "id": "ff5066e59280cb6e",
   "outputs": [],
   "execution_count": 194
  },
  {
   "metadata": {
    "ExecuteTime": {
     "end_time": "2025-09-24T23:04:28.860004Z",
     "start_time": "2025-09-24T23:04:28.843640Z"
    }
   },
   "cell_type": "code",
   "source": [
    "# Predictions and evaulate\n",
    "def evaluate_model(model, X_test, y_test):\n",
    "    prediction = model.predict(X_test)\n",
    "    accuracy = accuracy_score(y_test, prediction)\n",
    "    matrix = confusion_matrix(y_test, prediction)\n",
    "    return accuracy, matrix\n",
    "\n",
    "accuracy, matrix = evaluate_model(best_model, X_test, y_test)\n",
    "\n",
    "print(f'Accuracy: {accuracy*100:.2f}%')\n",
    "print(f'Confusion Matrix:')\n",
    "print(matrix)"
   ],
   "id": "405d211257c4aa3f",
   "outputs": [
    {
     "name": "stdout",
     "output_type": "stream",
     "text": [
      "Accuracy: 80.27%\n",
      "Confusion Matrix:\n",
      "[[115  19]\n",
      " [ 25  64]]\n"
     ]
    }
   ],
   "execution_count": 195
  },
  {
   "metadata": {
    "ExecuteTime": {
     "end_time": "2025-09-24T23:04:28.988088Z",
     "start_time": "2025-09-24T23:04:28.877438Z"
    }
   },
   "cell_type": "code",
   "source": [
    "# Plot\n",
    "def plot_model(matrix):\n",
    "    plt.figure(figsize=(10,7))\n",
    "    sns.heatmap(matrix, annot=True, fmt=\"d\", xticklabels=[\"Survived\",\"Not Survived\"], yticklabels=[\"Not Survived\", \"Survived\"])\n",
    "    plt.title(\"Confusion Matrix\")\n",
    "    plt.xlabel(\"Predicted Value\")\n",
    "    plt.ylabel(\"True Values\")\n",
    "    plt.show()\n",
    "\n",
    "\n",
    "plot_model(matrix)\n"
   ],
   "id": "3af4c459eb1fb4a4",
   "outputs": [
    {
     "data": {
      "text/plain": [
       "<Figure size 1000x700 with 2 Axes>"
      ],
      "image/png": "[encoded data removed]"
     },
     "metadata": {},
     "output_type": "display_data"
    }
   ],
   "execution_count": 196
  }
 ],
 "metadata": {
  "kernelspec": {
   "name": "python3",
   "language": "python",
   "display_name": "Python 3 (ipykernel)"
  }
 },
 "nbformat": 5,
 "nbformat_minor": 9
}
